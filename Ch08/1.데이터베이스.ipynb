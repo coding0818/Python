{
 "cells": [
  {
   "cell_type": "code",
   "execution_count": 3,
   "metadata": {},
   "outputs": [],
   "source": [
    "\"\"\"\n",
    "날짜 : 2023/01/13\n",
    "이름 : 박가영\n",
    "내용 : 파이썬 데이터베이스 프로그래밍 실습\n",
    "\"\"\"\n",
    "\n",
    "import pymysql"
   ]
  },
  {
   "cell_type": "code",
   "execution_count": 4,
   "metadata": {},
   "outputs": [
    {
     "name": "stdout",
     "output_type": "stream",
     "text": [
      "Insert 완료...\n"
     ]
    }
   ],
   "source": [
    "# Insert 실습\n",
    "# 데이터베이스 접속(conn:접속객체)\n",
    "conn = pymysql.connect(host='127.0.0.1', \n",
    "                user='root', \n",
    "                password='1234', \n",
    "                db='java2db', \n",
    "                charset='utf8')\n",
    "# SQL 실행 객체\n",
    "cur = conn.cursor()\n",
    "\n",
    "# SQL 실행\n",
    "sql = \"insert into `user3` values ('a104', '이나미', '010-1234-1001', 33)\"\n",
    "cur.execute(sql)\n",
    "conn.commit()\n",
    "\n",
    "# 데이터베이스 종료\n",
    "conn.close()\n",
    "print('Insert 완료...')"
   ]
  },
  {
   "cell_type": "code",
   "execution_count": 8,
   "metadata": {},
   "outputs": [
    {
     "name": "stdout",
     "output_type": "stream",
     "text": [
      "Update 완료...\n"
     ]
    }
   ],
   "source": [
    "# Update 실습\n",
    "# 데이터베이스 접속(conn:접속객체)\n",
    "conn = pymysql.connect(host='127.0.0.1', \n",
    "                user='root', \n",
    "                password='1234', \n",
    "                db='java2db', \n",
    "                charset='utf8')\n",
    "# SQL 실행 객체\n",
    "cur = conn.cursor()\n",
    "\n",
    "# SQL 실행\n",
    "sql = \"update `user3` set \"\n",
    "sql += \"`name`='홍길동', \"\n",
    "sql += \"`hp`='010-1211-1010', \"\n",
    "sql += \"`age`=22 \"\n",
    "sql += \"where `uid`='a101'\"\n",
    "cur.execute(sql)\n",
    "conn.commit()\n",
    "\n",
    "# 데이터베이스 종료\n",
    "conn.close()\n",
    "print('Update 완료...')"
   ]
  },
  {
   "cell_type": "code",
   "execution_count": 6,
   "metadata": {},
   "outputs": [
    {
     "name": "stdout",
     "output_type": "stream",
     "text": [
      "Insert 완료...\n"
     ]
    }
   ],
   "source": [
    "# Delete 실습\n",
    "# 데이터베이스 접속(conn:접속객체)\n",
    "conn = pymysql.connect(host='127.0.0.1', \n",
    "                user='root', \n",
    "                password='1234', \n",
    "                db='java2db', \n",
    "                charset='utf8')\n",
    "# SQL 실행 객체\n",
    "cur = conn.cursor()\n",
    "\n",
    "# SQL 실행\n",
    "sql = \"delete from `user3` where `uid`='a101'\"\n",
    "cur.execute(sql)\n",
    "conn.commit()\n",
    "\n",
    "# 데이터베이스 종료\n",
    "conn.close()\n",
    "print('Delete 완료...')"
   ]
  },
  {
   "cell_type": "code",
   "execution_count": 11,
   "metadata": {},
   "outputs": [
    {
     "name": "stdout",
     "output_type": "stream",
     "text": [
      "Select 완료...\n",
      "----------------\n",
      "아이디 : a102\n",
      "이름 : 김춘추\n",
      "휴대폰 : 010-1234-1002\n",
      "나이 : 66\n",
      "----------------\n",
      "아이디 : a103\n",
      "이름 : 장보고\n",
      "휴대폰 : 010-1234-1003\n",
      "나이 : 55\n",
      "----------------\n",
      "아이디 : a104\n",
      "이름 : 이나미\n",
      "휴대폰 : 010-1234-1001\n",
      "나이 : 33\n",
      "----------------\n",
      "아이디 : a105\n",
      "이름 : 이순신\n",
      "휴대폰 : 010-1234-1005\n",
      "나이 : 53\n",
      "----------------\n",
      "아이디 : a106\n",
      "이름 : 강감찬\n",
      "휴대폰 : 010-1234-1006\n",
      "나이 : 33\n"
     ]
    }
   ],
   "source": [
    "# Select 실습\n",
    "from sub.User3VO import User3VO\n",
    "\n",
    "# 데이터베이스 접속(conn:접속객체)\n",
    "conn = pymysql.connect(host='127.0.0.1', \n",
    "                user='root', \n",
    "                password='1234', \n",
    "                db='java2db', \n",
    "                charset='utf8')\n",
    "# SQL 실행 객체\n",
    "cur = conn.cursor()\n",
    "\n",
    "# SQL 실행\n",
    "cur.execute(\"select * from `user3`\")\n",
    "conn.commit()\n",
    "\n",
    "# 결과 출력\n",
    "users = []\n",
    "for row in cur.fetchall():\n",
    "\n",
    "    user = User3VO(row[0], row[1], row[2], row[3])\n",
    "    users.append(user)\n",
    "\n",
    "# 데이터베이스 종료\n",
    "conn.close()\n",
    "print('Select 완료...')\n",
    "\n",
    "for user in users:\n",
    "    print('----------------')\n",
    "    print('아이디 :', user.uid)\n",
    "    print('이름 :', user.name)\n",
    "    print('휴대폰 :', user.hp)\n",
    "    print('나이 :', user.age)"
   ]
  }
 ],
 "metadata": {
  "kernelspec": {
   "display_name": "Python 3",
   "language": "python",
   "name": "python3"
  },
  "language_info": {
   "codemirror_mode": {
    "name": "ipython",
    "version": 3
   },
   "file_extension": ".py",
   "mimetype": "text/x-python",
   "name": "python",
   "nbconvert_exporter": "python",
   "pygments_lexer": "ipython3",
   "version": "3.11.1 (tags/v3.11.1:a7a450f, Dec  6 2022, 19:58:39) [MSC v.1934 64 bit (AMD64)]"
  },
  "orig_nbformat": 4,
  "vscode": {
   "interpreter": {
    "hash": "5868237a719c5308d34c8911a17794e6baa898a055f8bd5fbd9df195d03bb563"
   }
  }
 },
 "nbformat": 4,
 "nbformat_minor": 2
}
